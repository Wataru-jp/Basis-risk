{
 "cells": [
  {
   "cell_type": "code",
   "execution_count": 2,
   "metadata": {},
   "outputs": [],
   "source": [
    "##  purpose: project on climate index insurance demand\n",
    "## update: June 5 2021"
   ]
  },
  {
   "cell_type": "code",
   "execution_count": 1,
   "metadata": {},
   "outputs": [
    {
     "data": {
      "text/plain": [
       "<matplotlib.legend.Legend at 0x1261ace10>"
      ]
     },
     "execution_count": 1,
     "metadata": {},
     "output_type": "execute_result"
    },
    {
     "data": {
      "image/png": "[encoded data removed]",
      "text/plain": [
       "<Figure size 432x288 with 1 Axes>"
      ]
     },
     "metadata": {
      "needs_background": "light"
     },
     "output_type": "display_data"
    }
   ],
   "source": [
    "## Taylor approximated  vs. Euler equation solution\n",
    "import numpy as np\n",
    "import math\n",
    "import matplotlib.pyplot as plt\n",
    "import matplotlib\n",
    "# matplotlib.use('Agg') # -----(1)\n",
    "import scipy.optimize as optimize\n",
    "from scipy.optimize import minimize\n",
    "\n",
    "## 近似解\n",
    "def Taylor(p,q,r,y):\n",
    "    a = (p*(1-p)-r)/(q*(1-q))*y\n",
    "    return a\n",
    "\n",
    "## 一階条件: CRRA\n",
    "def base_fn(p,q,r,y,w,a,ra):\n",
    "    return (p-r)*(1-q)*(w+(1-q)*a)**(-ra) - r*q*(w-q*a)**(-ra) \\\n",
    "                    - (1-q-r)*q*(w+y-q*a)**(-ra) + (q+r-p)*(1-q)*(w+y+(1-q)*a)**(-ra)\n",
    "\n",
    "## リスク回避度範囲\n",
    "x = np.arange(0, 10, 0.05)\n",
    "xa = []\n",
    "\n",
    "## (p, q, r, y, w)=(0.2, 0.2, 0.1, 1, 3)\n",
    "para = [0.2, 0.2, 0.1, 1, 3]\n",
    "for RA in x:\n",
    "    def fn(a):\n",
    "        res = base_fn(para[0], para[1], para[2], para[3], para[4], a, RA)\n",
    "        return res**2\n",
    "    sol_RA = minimize(fn, x0 = 1, method = \"Nelder-Mead\")\n",
    "    sol = sol_RA.x.tolist()\n",
    "    xa0 = [RA]\n",
    "    xa0.extend(sol)\n",
    "    xa.append(xa0)\n",
    "x, y = zip(*xa)\n",
    "\n",
    "## Figure\n",
    "plt.scatter(x, y, c = 'k', s = 0.1)\n",
    "plt.axhline(Taylor(para[0], para[1], para[2], para[3]), ls = '-.', color = 'magenta', label = 'alpha*')\n",
    "plt.axhline(2, ls = \":\", color = \"k\", label = 'alpha**')\n",
    "plt.xlim(0, 10)\n",
    "plt.ylim(0, 1)\n",
    "plt.xlabel('Risk Aversion')\n",
    "plt.ylabel('Cover rate')\n",
    "plt.legend()\n",
    "#plt.show()\n",
    "#plt.savefig(\"CRRA1.png\", format = \"png\", dpi = 300)"
   ]
  },
  {
   "cell_type": "code",
   "execution_count": null,
   "metadata": {},
   "outputs": [],
   "source": [
    "## Taylor approximated  vs. 2nd and 3rd order Euler equation solution\n",
    "import numpy as np\n",
    "import math\n",
    "import matplotlib.pyplot as plt\n",
    "import matplotlib\n",
    "# matplotlib.use('Agg') # -----(1)\n",
    "import scipy.optimize as optimize\n",
    "from scipy.optimize import minimize\n",
    "\n",
    "## 近似解１\n",
    "def Taylor(p,q,r,y):\n",
    "    a = (p*(1-p)-r)/(q*(1-q))*y\n",
    "    return a\n",
    "\n",
    "## 近似解２\n",
    "E = w + (1-p)*y\n",
    "V = q*(1-q)*a**2 - 2*(p*(1-p)-r) *y*a + p*(1-p)*y**2\n",
    "S = (p-r)*(w + a *(1-q)-E)**3 +r * (w - a*q-E)**3 + (1-q-r)*(w + y - a*q-E)**3 + (q+r-p)*(w + y + a*(1-q)-E)**3\n",
    "def base_fn(p,q,r,y,w,a,ra):\n",
    "    return E\n",
    "\n",
    "## 一階条件: CRRA\n",
    "def base_fn(p,q,r,y,w,a,ra):\n",
    "    return (p-r)*(1-q)*(w+(1-q)*a)**(-ra) - r*q*(w-q*a)**(-ra) \\\n",
    "                    - (1-q-r)*q*(w+y-q*a)**(-ra) + (q+r-p)*(1-q)*(w+y+(1-q)*a)**(-ra)\n",
    "\n",
    "## リスク回避度範囲\n",
    "x = np.arange(0, 10, 0.05)\n",
    "xa = []\n",
    "\n",
    "## (p, q, r, y, w)=(0.2, 0.2, 0.1, 1, 3)\n",
    "para = [0.2, 0.2, 0.1, 1, 3]\n",
    "for RA in x:\n",
    "    def fn(a):\n",
    "        res = base_fn(para[0], para[1], para[2], para[3], para[4], a, RA)\n",
    "        return res**2\n",
    "    sol_RA = minimize(fn, x0 = 1, method = \"Nelder-Mead\")\n",
    "    sol = sol_RA.x.tolist()\n",
    "    xa0 = [RA]\n",
    "    xa0.extend(sol)\n",
    "    xa.append(xa0)\n",
    "x, y = zip(*xa)\n",
    "\n",
    "## Figure\n",
    "plt.scatter(x, y, c = 'k', s = 0.1)\n",
    "plt.axhline(Taylor(para[0], para[1], para[2], para[3]), ls = '-.', color = 'magenta', label = 'alpha*')\n",
    "plt.axhline(2, ls = \":\", color = \"k\", label = 'alpha**')\n",
    "plt.xlim(0, 10)\n",
    "plt.ylim(0, 1)\n",
    "plt.xlabel('Risk Aversion')\n",
    "plt.ylabel('Cover rate')\n",
    "plt.legend()\n",
    "#plt.show()\n",
    "#plt.savefig(\"CRRA1.png\", format = \"png\", dpi = 300)"
   ]
  },
  {
   "cell_type": "code",
   "execution_count": null,
   "metadata": {},
   "outputs": [],
   "source": [
    "## 一階条件: CRRA\n",
    "def base_fn(p,q,r,y,w,a,ra):\n",
    "    return (p-r)*(1-q)*(w+(1-q)*a)**(-ra) - r*q*(w-q*a)**(-ra) \\\n",
    "                    - (1-q-r)*q*(w+y-q*a)**(-ra) + (q+r-p)*(1-q)*(w+y+(1-q)*a)**(-ra)\n",
    "\n",
    "## リスク回避度範囲\n",
    "x = np.arange(0, 10, 0.05)\n",
    "xa = []\n",
    "\n",
    "## (p, q, r, y, w)=(0.2, 0.2, 0.1, 1, 3)\n",
    "para = [0.2, 0.2, 0.1, 1, 3]\n",
    "for RA in x:\n",
    "    def fn(a):\n",
    "        res = base_fn(para[0], para[1], para[2], para[3], para[4], a, RA)\n",
    "        return res**2\n",
    "    sol_RA = minimize(fn, x0 = 1, method = \"Nelder-Mead\")\n",
    "    sol = sol_RA.x.tolist()\n",
    "    xa0 = [RA]\n",
    "    xa0.extend(sol)\n",
    "    xa.append(xa0)\n",
    "x, y = zip(*xa)\n",
    "\n",
    "## Figure\n",
    "plt.scatter(x, y, c = 'k', s = 0.1)\n",
    "plt.axhline(Taylor(para[0], para[1], para[2], para[3]), ls = '-.', color = 'magenta', label = 'alpha*')\n",
    "plt.axhline(2, ls = \":\", color = \"k\", label = 'alpha**')\n",
    "plt.xlim(0, 10)\n",
    "plt.ylim(0, 1)\n",
    "plt.xlabel('Risk Aversion')\n",
    "plt.ylabel('Cover rate')\n",
    "plt.legend()\n",
    "#plt.show()\n",
    "#plt.savefig(\"CRRA1.png\", format = \"png\", dpi = 300)"
   ]
  },
  {
   "cell_type": "code",
   "execution_count": 2,
   "metadata": {},
   "outputs": [
    {
     "name": "stderr",
     "output_type": "stream",
     "text": [
      "/Users/kodam1/.pyenv/versions/3.6.5/lib/python3.6/site-packages/ipykernel_launcher.py:18: RuntimeWarning: divide by zero encountered in power\n",
      "/Users/kodam1/.pyenv/versions/3.6.5/lib/python3.6/site-packages/ipykernel_launcher.py:18: RuntimeWarning: invalid value encountered in subtract\n"
     ]
    },
    {
     "data": {
      "text/plain": [
       "<matplotlib.legend.Legend at 0x1287af208>"
      ]
     },
     "execution_count": 2,
     "metadata": {},
     "output_type": "execute_result"
    },
    {
     "data": {
      "image/png": "[encoded data removed]",
      "text/plain": [
       "<Figure size 432x288 with 1 Axes>"
      ]
     },
     "metadata": {
      "needs_background": "light"
     },
     "output_type": "display_data"
    }
   ],
   "source": [
    "## Initial wealth範囲\n",
    "x = np.arange(0, 10, 0.05)\n",
    "xa = []\n",
    "\n",
    "## (p, q, r, y, ra)=(0.2, 0.2, 0.1, 1, 4)　for base_fn(p, q, r, y, w, a, ra)\n",
    "para2 = [0.2, 0.2, 0.1, 1, 4]\n",
    "for w in x:\n",
    "    def fn(a):\n",
    "        res = base_fn(para2[0], para2[1], para2[2], para2[3], w, a, para2[4])\n",
    "        return res**2\n",
    "    sol_w = minimize(fn, x0 = 0, method = \"Nelder-Mead\")\n",
    "    sol = sol_w.x.tolist()\n",
    "    xa0 = [w]\n",
    "    xa0.extend(sol)\n",
    "    xa.append(xa0)\n",
    "\n",
    "x, y = zip(*xa)\n",
    "plt.scatter(x, y, c='k', s=0.1)\n",
    "plt.axhline(Taylor(para2[0], para2[1], para2[2], para2[3]), ls = '-.', color = 'magenta', label = 'alpha*')\n",
    "plt.axhline(2, ls = ':', color = 'k', label = 'alpha**')\n",
    "plt.xlim(0, 10)\n",
    "plt.ylim(0, 1)\n",
    "plt.xlabel('Initial wealth (/loss)')\n",
    "plt.ylabel('Cover rate')\n",
    "plt.legend()\n",
    "#plt.show()\n",
    "#plt.savefig(\"CRRA2.png\", format = \"png\", dpi = 300)"
   ]
  },
  {
   "cell_type": "code",
   "execution_count": null,
   "metadata": {},
   "outputs": [],
   "source": []
  },
  {
   "cell_type": "code",
   "execution_count": 57,
   "metadata": {},
   "outputs": [
    {
     "data": {
      "image/png": "[encoded data removed]",
      "text/plain": [
       "<Figure size 432x288 with 1 Axes>"
      ]
     },
     "metadata": {
      "needs_background": "light"
     },
     "output_type": "display_data"
    }
   ],
   "source": [
    "## 一階条件: CARA\n",
    "def base_fn2(p,q,r,y,w,a,ra):\n",
    "    return (p-r)*(1-q)*math.e**(-ra*(w+(1-q)*a)) - r*q*math.e**(-ra*(w-q*a)) \\\n",
    "                    - (1-q-r)*q*math.e**(-ra*(w+y-q*a)) + (q+r-p)*(1-q)*math.e**(-ra*(w+y+(1-q)*a))\n",
    "\n",
    "## リスク回避度範囲\n",
    "x = np.arange(0, 10, 0.05)\n",
    "xa = []\n",
    "\n",
    "## (p, q, r, y, w)=(0.2, 0.2, 0.1, 1, 3)\n",
    "para = [0.2, 0.2, 0.1, 1, 3]\n",
    "for RA in x:\n",
    "    def fn2(a):\n",
    "        res = base_fn2(para[0], para[1], para[2], para[3], para[4], a, RA)\n",
    "        return res**2\n",
    "    sol_RA = minimize(fn2, x0 = 1, method = \"Nelder-Mead\")\n",
    "    sol = sol_RA.x.tolist()\n",
    "    xa0 = [RA]\n",
    "    xa0.extend(sol)\n",
    "    xa.append(xa0)\n",
    "\n",
    "x, y = zip(*xa)\n",
    "plt.scatter(x, y, c = 'k', s = 0.1)\n",
    "plt.axhline(Taylor(para[0], para[1], para[2], para[3]), ls = '-.', color = 'magenta', label = 'alpha*')\n",
    "plt.axhline(2, ls = \":\", color = \"k\", label = 'alpha**')\n",
    "plt.xlim(0, 10)\n",
    "plt.ylim(0, 1)\n",
    "plt.xlabel('Risk Aversion')\n",
    "plt.ylabel('Cover rate')\n",
    "plt.legend()\n",
    "#plt.show()\n",
    "plt.savefig(\"CARA1.png\", format = \"png\", dpi = 300)"
   ]
  },
  {
   "cell_type": "code",
   "execution_count": 68,
   "metadata": {},
   "outputs": [
    {
     "data": {
      "image/png": "[encoded data removed]",
      "text/plain": [
       "<Figure size 432x288 with 1 Axes>"
      ]
     },
     "metadata": {
      "needs_background": "light"
     },
     "output_type": "display_data"
    }
   ],
   "source": [
    "## Initial wealth範囲\n",
    "x = np.arange(0, 10, 0.05)\n",
    "xa = []\n",
    "\n",
    "## (p, q, r, y, ra)=(0.2, 0.2, 0.1, 1, 4)　for base_fn(p, q, r, y, w, a, ra)\n",
    "para2 = [0.2, 0.2, 0.1, 1, 4]\n",
    "for w in x:\n",
    "    def fn2(a):\n",
    "        res = base_fn2(para2[0], para2[1], para2[2], para2[3], w, a, para2[4])\n",
    "        return res**2\n",
    "    sol_w = minimize(fn2, x0 = 0.5, method = \"Nelder-Mead\")\n",
    "    sol = sol_w.x.tolist()\n",
    "    xa0 = [w]\n",
    "    xa0.extend(sol)\n",
    "    xa.append(xa0)\n",
    "\n",
    "x, y = zip(*xa)\n",
    "plt.scatter(x, y, c = 'k', s = 0.1)\n",
    "plt.axhline(Taylor(para2[0], para2[1], para2[2], para2[3]), ls = '-.', color = 'magenta', label = 'alpha*')\n",
    "plt.axhline(2, ls = ':', color = 'k', label = 'alpha**')\n",
    "plt.xlim(0, 10)\n",
    "plt.ylim(0, 1)\n",
    "plt.xlabel('Initial wealth (/loss)')\n",
    "plt.ylabel('Cover rate')\n",
    "plt.legend()\n",
    "#plt.show()\n",
    "plt.savefig(\"CARA2.png\", format = \"png\", dpi = 300)"
   ]
  },
  {
   "cell_type": "code",
   "execution_count": 6,
   "metadata": {
    "scrolled": true
   },
   "outputs": [
    {
     "data": {
      "text/plain": [
       "[388.75, 388.75, 772.75, 1.0, 1.0]"
      ]
     },
     "execution_count": 6,
     "metadata": {},
     "output_type": "execute_result"
    }
   ],
   "source": [
    "## Calculate CRRA and CARA coefficient\n",
    "import numpy as np\n",
    "import scipy.optimize as optimize\n",
    "from scipy.optimize import minimize\n",
    "\n",
    "# CRRA \n",
    "def base_fn(x1, x2, x3, x4, ra):\n",
    "    res = - (0+x1)**(1-ra) - (0+x2)**(1-ra) + (0+x3)**(1-ra) + (0+x4)**(1-ra)\n",
    "    return res**2\n",
    "\n",
    "# (5,5) vs. (4,12)\n",
    "para = [5, 5, 4, 12]\n",
    "def fn1(x):\n",
    "    return base_fn(para[0], para[1], para[2], para[3], x)\n",
    "RA = minimize(fn1, x0 = 5, method = \"Nelder-Mead\").x.tolist()\n",
    "\n",
    "# (4,12) vs. (3,16)\n",
    "para = [4, 12, 3, 16]\n",
    "def fn2(x):\n",
    "    return base_fn(para[0], para[1], para[2], para[3], x)\n",
    "RA.extend(minimize(fn2, x0 = 5, method = \"Nelder-Mead\").x.tolist())\n",
    "\n",
    "# (3, 16) vs. (2,19)\n",
    "para = [3, 16, 2, 19]\n",
    "def fn3(x):\n",
    "    return base_fn(para[0], para[1], para[2], para[3], x)\n",
    "RA.extend(minimize(fn3, x0 = 5, method = \"Nelder-Mead\").x.tolist())\n",
    "\n",
    "# (2, 19) vs. (1,21)\n",
    "para = [2, 19, 1, 21]\n",
    "def fn4(x):\n",
    "    return base_fn(para[0], para[1], para[2], para[3], x)\n",
    "RA.extend(minimize(fn4, x0 = 5, method = \"Nelder-Mead\").x.tolist())\n",
    "\n",
    "# (1, 21) vs. (0,22)\n",
    "para = [2, 19, 1, 21]\n",
    "def fn5(x):\n",
    "    return base_fn(para[0], para[1], para[2], para[3], x)\n",
    "RA.extend(minimize(fn5, x0 = 5, method = \"Nelder-Mead\").x.tolist())\n",
    "RA\n"
   ]
  },
  {
   "cell_type": "code",
   "execution_count": 11,
   "metadata": {},
   "outputs": [
    {
     "data": {
      "text/plain": [
       "[0.9143072951234487,\n",
       " 0.38285201648482076,\n",
       " 0.4203539819478458,\n",
       " 0.6932166256250604,\n",
       " 0.6932166256250604]"
      ]
     },
     "execution_count": 11,
     "metadata": {},
     "output_type": "execute_result"
    }
   ],
   "source": [
    "## Calculate CRRA and CARA coefficient\n",
    "import scipy.optimize as optimize\n",
    "from scipy.optimize import minimize, BFGS, LinearConstraint\n",
    "import math\n",
    "\n",
    "# CARA \n",
    "def base_fn(x1, x2, x3, x4, ra):\n",
    "    res = math.e**(-ra*(0+x1)) + math.e**(-ra*(0+x2)) - math.e**(-ra*(0+x3)) - math.e**(-ra*(0+x4))\n",
    "    return res\n",
    "const = LinearConstraint(1, 0, 10)\n",
    "\n",
    "# (5,5) vs. (4,12)\n",
    "para = [5, 5, 4, 12]\n",
    "def fn1(x):\n",
    "    return base_fn(para[0], para[1], para[2], para[3], x)\n",
    "RA = minimize(fn1, x0 = 1, method = \"trust-constr\", constraints=const).x.tolist()\n",
    "\n",
    "# (4,12) vs. (3,16)\n",
    "para = [4, 12, 3, 16]\n",
    "def fn2(x):\n",
    "    return base_fn(para[0], para[1], para[2], para[3], x)\n",
    "RA.extend(minimize(fn2, x0 = 1, method = \"trust-constr\", constraints=const).x.tolist())\n",
    "\n",
    "# (3, 16) vs. (2,19)\n",
    "para = [3, 16, 2, 19]\n",
    "def fn3(x):\n",
    "    return base_fn(para[0], para[1], para[2], para[3], x)\n",
    "RA.extend(minimize(fn3, x0 = 1, method = \"trust-constr\", constraints=const).x.tolist())\n",
    "\n",
    "# (2, 19) vs. (1,21)\n",
    "para = [2, 19, 1, 21]\n",
    "def fn4(x):\n",
    "    return base_fn(para[0], para[1], para[2], para[3], x)\n",
    "RA.extend(minimize(fn4, x0 = 1, method = \"trust-constr\", constraints=const).x.tolist())\n",
    "\n",
    "# (1, 21) vs. (0,22)\n",
    "para = [2, 19, 1, 21]\n",
    "def fn5(x):\n",
    "    return base_fn(para[0], para[1], para[2], para[3], x)\n",
    "RA.extend(minimize(fn5, x0 = 1, method = \"trust-constr\", constraints=const).x.tolist())\n",
    "RA\n"
   ]
  },
  {
   "cell_type": "code",
   "execution_count": 19,
   "metadata": {},
   "outputs": [
    {
     "data": {
      "image/png": "[encoded data removed]",
      "text/plain": [
       "<Figure size 432x288 with 1 Axes>"
      ]
     },
     "metadata": {
      "needs_background": "light"
     },
     "output_type": "display_data"
    }
   ],
   "source": [
    "import numpy as np\n",
    "x = np.linspace(1.1,10,100)\n",
    "y = (5**(1-x) + 5**(1-x) - 4**(1-x) - 12**(1-x))**2\n",
    "z = (math.e**(-x*(0+5)) + math.e**(-x*(0+5)) - math.e**(-x*(0+4)) - math.e**(-x*(0+12)))**2\n",
    "plt.plot(x,z)\n",
    "plt.show()\n"
   ]
  },
  {
   "cell_type": "code",
   "execution_count": 18,
   "metadata": {},
   "outputs": [
    {
     "name": "stderr",
     "output_type": "stream",
     "text": [
      "/Users/kodam1/.pyenv/versions/3.6.5/lib/python3.6/site-packages/ipykernel_launcher.py:8: RuntimeWarning: overflow encountered in power\n",
      "  \n",
      "/Users/kodam1/.pyenv/versions/3.6.5/lib/python3.6/site-packages/ipykernel_launcher.py:8: RuntimeWarning: invalid value encountered in subtract\n",
      "  \n",
      "/Users/kodam1/.pyenv/versions/3.6.5/lib/python3.6/site-packages/scipy/optimize/optimize.py:597: RuntimeWarning: invalid value encountered in subtract\n",
      "  numpy.max(numpy.abs(fsim[0] - fsim[1:])) <= fatol):\n"
     ]
    },
    {
     "data": {
      "text/plain": [
       "[-149.0]"
      ]
     },
     "execution_count": 18,
     "metadata": {},
     "output_type": "execute_result"
    }
   ],
   "source": [
    "## Calculate CRRA and CARA coefficient\n",
    "import scipy.optimize as optimize\n",
    "from scipy.optimize import minimize, BFGS, LinearConstraint\n",
    "import math\n",
    "\n",
    "# CARA \n",
    "def base_fn(x1, x2, x3, x4, ra):\n",
    "    res = x1**(1-ra)+x2**(1-ra)-x3**(1-ra)-x4**(1-ra)\n",
    "    return res\n",
    "\n",
    "# (50,50) vs. (45,95)\n",
    "para = [50, 50, 45, 95]\n",
    "def fn1(x):\n",
    "    return base_fn(para[0], para[1], para[2], para[3], x)\n",
    "minimize(fn1, x0 = 10, method = \"Nelder-Mead\").x.tolist()\n",
    "\n",
    "# (45,95) vs. (40,120)\n",
    "para = [45, 95, 40, 120]\n",
    "def fn1(x):\n",
    "    return base_fn(para[0], para[1], para[2], para[3], x)\n",
    "minimize(fn1, x0 = 10, method = \"Nelder-Mead\").x.tolist()"
   ]
  },
  {
   "cell_type": "code",
   "execution_count": null,
   "metadata": {},
   "outputs": [],
   "source": []
  }
 ],
 "metadata": {
  "kernelspec": {
   "display_name": "Python 3",
   "language": "python",
   "name": "python3"
  },
  "language_info": {
   "codemirror_mode": {
    "name": "ipython",
    "version": 3
   },
   "file_extension": ".py",
   "mimetype": "text/x-python",
   "name": "python",
   "nbconvert_exporter": "python",
   "pygments_lexer": "ipython3",
   "version": "3.6.5"
  }
 },
 "nbformat": 4,
 "nbformat_minor": 4
}
